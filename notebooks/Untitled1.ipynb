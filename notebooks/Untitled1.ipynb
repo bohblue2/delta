{
 "cells": [
  {
   "cell_type": "code",
   "execution_count": 99,
   "id": "6d5bdad8-2f35-4708-af19-e40660342e91",
   "metadata": {},
   "outputs": [],
   "source": [
    "from arcticdb import Arctic\n",
    "ac = Arctic(\"lmdb:///Users/baeyeongmin/arcticdb\")\n",
    "DELTA_DB_PATH='/Users/baeyeongmin/deltadb'\n",
    "date='20230915'"
   ]
  },
  {
   "cell_type": "code",
   "execution_count": 100,
   "id": "d62fb906-0e83-446f-822a-45ae06225c01",
   "metadata": {},
   "outputs": [],
   "source": [
    "import os\n",
    "from glob import glob\n",
    "logs_path = os.path.join(DELTA_DB_PATH, date, \"ticks\", \"*.csv\")\n",
    "paths = glob(logs_path)"
   ]
  },
  {
   "cell_type": "code",
   "execution_count": 101,
   "id": "947d37c7-1d2c-4367-aa28-d3379db9e96e",
   "metadata": {},
   "outputs": [],
   "source": [
    "import pandas as pd\n",
    "import polars as pl"
   ]
  },
  {
   "cell_type": "code",
   "execution_count": 102,
   "id": "94f6385a-a7a2-43c5-a44b-f50691774866",
   "metadata": {},
   "outputs": [],
   "source": [
    "ORDERBOOK_COLS = [\n",
    " 'offerrem2',\n",
    " 'offerho4',\n",
    " 'bidho5',\n",
    " 'offerho3',\n",
    " 'offerrem3',\n",
    " 'bidho4',\n",
    " 'offerrem4',\n",
    " 'offerho6',\n",
    " 'bidho7',\n",
    " 'offerho5',\n",
    " 'offerrem5',\n",
    " 'bidho6',\n",
    " 'offerho8',\n",
    " 'bidho9',\n",
    " 'offerho7',\n",
    " 'bidho8',\n",
    " 'offerrem1',\n",
    " 'offerho9',\n",
    " 'offerrem6',\n",
    " 'offerrem7',\n",
    " 'offerrem8',\n",
    " 'offerrem9',\n",
    " 'bidrem3',\n",
    " 'bidrem4',\n",
    " 'bidrem1',\n",
    " 'bidrem2',\n",
    " 'bidrem9',\n",
    " 'bidho1',\n",
    " 'bidrem7',\n",
    " 'bidrem8',\n",
    " 'hotime',\n",
    " 'offerho2',\n",
    " 'bidho3',\n",
    " 'bidrem5',\n",
    " 'offerho1',\n",
    " 'bidho2',\n",
    " 'bidrem6',\n",
    " 'bidrem10',\n",
    " 'bidho10',\n",
    " 'shcode',\n",
    " 'offerho10',\n",
    " 'offerrem10',\n",
    " 'local_timestamp'\n",
    "]"
   ]
  },
  {
   "cell_type": "code",
   "execution_count": 103,
   "id": "4945d374-ecaf-4084-a6b8-6f5e3d43be7d",
   "metadata": {},
   "outputs": [],
   "source": [
    "# df = pd.read_csv(paths[0], usecols=ORDERBOOK_COLS, index_col=['local_timestamp'])"
   ]
  },
  {
   "cell_type": "code",
   "execution_count": 104,
   "id": "212305a2-6cc2-4ee2-93c5-643f9e4ff18e",
   "metadata": {},
   "outputs": [],
   "source": [
    "df = pl.read_csv(paths[0], try_parse_dates=True, infer_schema_length=10_000)"
   ]
  },
  {
   "cell_type": "code",
   "execution_count": 105,
   "id": "36e1717d-5df5-417b-b873-439fc5da96b7",
   "metadata": {},
   "outputs": [],
   "source": [
    "df = df[ORDERBOOK_COLS]"
   ]
  },
  {
   "cell_type": "code",
   "execution_count": 107,
   "id": "bc9831f0-6686-4f2e-a5e0-b2f2adf3e07d",
   "metadata": {},
   "outputs": [],
   "source": [
    "df = df.rename({\n",
    "    col: col.replace(\"bidho\", \"bpx\").replace(\"bidrem\", \"bqty\").replace(\"offerho\", \"apx\").replace(\"offerrem\", \"aqty\").replace('shcode', 'symbol').replace('hotime', 'exchange_timestamp')\n",
    "    for col in df.columns\n",
    "})\n",
    "df = df.select(sorted(df.columns))"
   ]
  },
  {
   "cell_type": "code",
   "execution_count": 87,
   "id": "bc22465e-03fd-4e26-b9fd-0c5ffea9a0a5",
   "metadata": {},
   "outputs": [],
   "source": [
    "from datetime import datetime"
   ]
  },
  {
   "cell_type": "code",
   "execution_count": 92,
   "id": "82c92c0b-31bb-4c99-80a9-b776459dafc0",
   "metadata": {},
   "outputs": [],
   "source": [
    "def combine_date_time(date_obj, time_str):\n",
    "    time_str = f\"{time_str:06}\"\n",
    "    hour = int(time_str[0:2])\n",
    "    minute = int(time_str[2:4])\n",
    "    second = int(time_str[4:6])\n",
    "    return datetime(date_obj.year, date_obj.month, date_obj.day, hour, minute, second)\n"
   ]
  },
  {
   "cell_type": "code",
   "execution_count": 95,
   "id": "1fe32780-6c3f-4152-9dfe-007140728575",
   "metadata": {},
   "outputs": [],
   "source": [
    "df['exchange_timestamp'] = df['exchange_timestamp'].apply(lambda x: combine_date_time(date_obj=today, time_str=x))"
   ]
  },
  {
   "cell_type": "code",
   "execution_count": 135,
   "id": "697efa82-7f27-4628-b880-76afce11fe69",
   "metadata": {},
   "outputs": [],
   "source": [
    "if 'ebest.orderbook3' not in ac.list_libraries():\n",
    "    ac.create_library('ebest.orderbook3')\n",
    "lib = ac.get_library('ebest.orderbook3')"
   ]
  },
  {
   "cell_type": "code",
   "execution_count": 138,
   "id": "65928449-ae1d-48d3-8b07-f4df4622b023",
   "metadata": {},
   "outputs": [],
   "source": [
    "from tqdm import tqdm"
   ]
  },
  {
   "cell_type": "code",
   "execution_count": 139,
   "id": "8623ec21-9dfe-4b12-a775-42fa568b9f4a",
   "metadata": {},
   "outputs": [
    {
     "name": "stderr",
     "output_type": "stream",
     "text": [
      "100%|█████████████████████████████████████████████████████████████████████████████████████████████████████████████████████████████████████████████████████████████████████████████████| 2063/2063 [00:25<00:00, 81.49it/s]\n"
     ]
    }
   ],
   "source": [
    "symbols = df.group_by('symbol').agg().to_dicts()\n",
    "for symbol in tqdm(symbols):\n",
    "    orderbook_np = df.filter(df['symbol'] == symbol['symbol']).to_numpy(structured=True)\n",
    "    orderbook_df = pd.DataFrame(orderbook_np, columns=df.columns)\n",
    "    orderbook_df.index = pd.to_datetime(orderbook_df['local_timestamp'], unit='s')\n",
    "    orderbook_df.drop(columns=['local_timestamp'], inplace=True)\n",
    "    orderbook_df['exchange_timestamp'] = orderbook_df['exchange_timestamp'].apply(lambda x: combine_date_time(date_obj=today, time_str=x))\n",
    "    orderbook_df.sort_index(inplace=True)\n",
    "    lib.write(symbol['symbol'], orderbook_df)"
   ]
  },
  {
   "cell_type": "code",
   "execution_count": null,
   "id": "42ce44ad-5b0e-43b3-83a6-761f06fba4ac",
   "metadata": {},
   "outputs": [],
   "source": []
  }
 ],
 "metadata": {
  "kernelspec": {
   "display_name": "Python 3 (ipykernel)",
   "language": "python",
   "name": "python3"
  },
  "language_info": {
   "codemirror_mode": {
    "name": "ipython",
    "version": 3
   },
   "file_extension": ".py",
   "mimetype": "text/x-python",
   "name": "python",
   "nbconvert_exporter": "python",
   "pygments_lexer": "ipython3",
   "version": "3.11.5"
  }
 },
 "nbformat": 4,
 "nbformat_minor": 5
}
